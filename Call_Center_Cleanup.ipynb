{
 "cells": [
  {
   "cell_type": "markdown",
   "id": "331a1c4f",
   "metadata": {},
   "source": [
    "# Call Center Cleanup\n",
    "\n",
    "For this assignment, we will be working with call center data. You can start working on the assignment after the first lesson on Exploratory Data Analysis. Make sure to read the whole assignment before starting anything! As you code along in the Jupyter notebook, you are asked to make note of the results of your analysis. Do so by clicking on the results box and adding your notes beside each question.\n",
    "\n",
    "## Business Issue and Understanding\n",
    "\n",
    "You are working for a company that has two call centers: the North Call Center and the South Call Center. The company is looking to possibly hire five additional reps to enhance customer experience. Your task is to explore how efficient the current reps are in each branch to determine which branch would benefit from additional assistance.\n",
    "\n",
    "### How the Call Center Works\n",
    "\n",
    "Call center representatives are assigned queues. When calls are assigned to a queue, the call is assigned to the next person in line in the queue. After a call is assigned to a representative, the amount of time between assignment and the call starting is divided into busy minutes and not ready minutes. If the call is incoming and a customer is waiting on the phone for a rep, the time is split into three categories: busy minutes, not ready minutes, and incoming call wait time. Once the rep has the customer on the phone, there might be during call wait time, where the call is put on hold while the rep gets an answer for the customer.\n",
    "\n",
    "### Notes about the Dataset\n",
    "\n",
    "If you haven't worked in a call center before, these notes might help you throughout your analysis.\n",
    "\n",
    "* The call purpose is tagged for each call.\n",
    "* The time of the call is tagged in 1 hour blocks starting at 9:00 AM and ending at 5:00 PM.\n",
    "* Calls are tagged as incoming or outgoing.\n",
    "* Reps are assigned to queues. When the reps are working, they take calls in the order of their queue.\n",
    "* A call that is dropped due to technical error or missed by the center because they have reached maximum capacity is a lost call.\n",
    "* An abandoned call is when the customer hangs up because they have been waiting for too long.\n",
    "* Busy Minutes: the amount of time after a call comes in or needs to go out where the assigned rep is not available because they are busy with other customers.\n",
    "* Not Ready Minutes: the amount of time after a call comes in or needs to go out where the assigned rep is not available because they are not ready (for example, getting water).\n",
    "* Incoming Wait Time - amount of time after assigned rep is available to take the call customer waits for representative to pick up a call. This is tracked in seconds.\n",
    "* During Call Wait Time - amount of time during call that customer has to wait for representative\n",
    "\n",
    "## Getting Started\n",
    "\n",
    "You have two CSVs at your disposal, `NorthCallCenter.csv` and `SouthCallCenter.csv`. Import the appropriate libraries and create two dataframes, one called `north_df` and one called `south_df`."
   ]
  },
  {
   "cell_type": "code",
   "execution_count": 1,
   "id": "f362436b",
   "metadata": {},
   "outputs": [],
   "source": [
    "# Import the appropriate libraries with aliases\n",
    "import pandas as pd\n",
    "import numpy as np\n",
    "import matplotlib.pyplot as plt\n",
    "import seaborn as sns\n",
    "# Create two new dataframes\n",
    "north_df = pd.read_csv(\"NorthCallCenter.csv\")\n",
    "south_df = pd.read_csv(\"SouthCallCenter.csv\")"
   ]
  },
  {
   "cell_type": "markdown",
   "id": "37f77cd4",
   "metadata": {},
   "source": [
    "<span style=\"background-color:orangered; color:orangered;\">- - - - - - - - - - - - - - - - - - - - - - - - - - - - - - - - - - - - - - - - - - - - - - - - - - - - - - - - - - - - - - - - - - - - - - - - - - - - - - - - - - - - - - - - -</span>"
   ]
  },
  {
   "cell_type": "markdown",
   "id": "b4d3484b",
   "metadata": {},
   "source": [
    "## Exploratory Data Analysis\n",
    "\n",
    "Time to do some EDA! In the process of learning more about the two datasets, answer the following questions. In the code blocks below enter the code used to solve the question.  At the end of the section record your answers by double clicking where asked."
   ]
  },
  {
   "cell_type": "markdown",
   "id": "76898991",
   "metadata": {},
   "source": [
    "#### EDA Question 1A:  How many reps are in the North branch?  "
   ]
  },
  {
   "cell_type": "code",
   "execution_count": 8,
   "id": "ce3eb5e4",
   "metadata": {},
   "outputs": [
    {
     "data": {
      "text/plain": [
       "9"
      ]
     },
     "execution_count": 8,
     "metadata": {},
     "output_type": "execute_result"
    }
   ],
   "source": [
    "#Code Used:\n",
    "north_df.columns\n",
    "north_df[\"Rep ID\"].nunique()"
   ]
  },
  {
   "cell_type": "markdown",
   "id": "2a9b34d8",
   "metadata": {},
   "source": [
    "#### EDA Question 1B:  How many reps are in the South branch?  "
   ]
  },
  {
   "cell_type": "code",
   "execution_count": 9,
   "id": "3c715bbf",
   "metadata": {},
   "outputs": [
    {
     "data": {
      "text/plain": [
       "11"
      ]
     },
     "execution_count": 9,
     "metadata": {},
     "output_type": "execute_result"
    }
   ],
   "source": [
    "#Code Used:\n",
    "south_df.columns\n",
    "south_df[\"Rep ID\"].nunique()"
   ]
  },
  {
   "cell_type": "markdown",
   "id": "a872f045",
   "metadata": {},
   "source": [
    "#### EDA Question 2A:  What is the average busy minutes, not ready minutes, incoming wait time, and during call wait time for the North branch? "
   ]
  },
  {
   "cell_type": "code",
   "execution_count": 4,
   "id": "3759305f",
   "metadata": {},
   "outputs": [
    {
     "data": {
      "text/plain": [
       "Busy Minutes             9.987755\n",
       "Not Ready Minutes        1.914286\n",
       "Incoming Wait Time       3.048780\n",
       "During Call Wait Time    2.967347\n",
       "dtype: float64"
      ]
     },
     "execution_count": 4,
     "metadata": {},
     "output_type": "execute_result"
    }
   ],
   "source": [
    "#Code Used:\n",
    "north_df[[\"Busy Minutes\", \"Not Ready Minutes\", \"Incoming Wait Time\", \"During Call Wait Time\"]].mean()"
   ]
  },
  {
   "cell_type": "markdown",
   "id": "3851cf3e",
   "metadata": {},
   "source": [
    "#### EDA Question 2B:  What is the average busy minutes, not ready minutes, incoming wait time, and during call wait time for the South branch? "
   ]
  },
  {
   "cell_type": "code",
   "execution_count": 5,
   "id": "a77ec152",
   "metadata": {},
   "outputs": [
    {
     "data": {
      "text/plain": [
       "Busy Minutes             10.054140\n",
       "Not Ready Minutes         1.910828\n",
       "Incoming Wait Time        3.000000\n",
       "During Call Wait Time     3.076433\n",
       "dtype: float64"
      ]
     },
     "execution_count": 5,
     "metadata": {},
     "output_type": "execute_result"
    }
   ],
   "source": [
    "#Code Used:\n",
    "south_df[[\"Busy Minutes\", \"Not Ready Minutes\", \"Incoming Wait Time\", \"During Call Wait Time\"]].mean()"
   ]
  },
  {
   "cell_type": "markdown",
   "id": "75915553",
   "metadata": {},
   "source": [
    "#### EDA Question 3:  What is the number of calls taken for each time block(Both North and South combined)?"
   ]
  },
  {
   "cell_type": "code",
   "execution_count": 6,
   "id": "49566936",
   "metadata": {},
   "outputs": [
    {
     "data": {
      "text/plain": [
       "10:00 AM     99\n",
       "11:00 AM     56\n",
       "12:00 PM    120\n",
       "1:00 PM      40\n",
       "2:00 PM      65\n",
       "3:00 PM      73\n",
       "4:00 PM      53\n",
       "5:00 PM      43\n",
       "9:00 AM      10\n",
       "Name: Time Block, dtype: int64"
      ]
     },
     "execution_count": 6,
     "metadata": {},
     "output_type": "execute_result"
    }
   ],
   "source": [
    "# Code Used:\n",
    "north_df[\"Time Block\"].value_counts(ascending = True) + south_df[\"Time Block\"].value_counts(ascending = True)"
   ]
  },
  {
   "cell_type": "markdown",
   "id": "40b1fd3f",
   "metadata": {},
   "source": [
    "##### Record your answers for the EDA section by double clicking here:\n",
    "- 1a) Reps in the North Branch = 9\n",
    "- 1b) Reps in the South Branch = 11\n",
    "\n",
    "\n",
    "- 2a) North Branch, (round to the nearest hundredth):\n",
    "> - Busy Minutes = 9.99\n",
    "> - Not Ready Minutes = 1.91\n",
    "> - Incoming Wait Time = 3.05\n",
    "> - During Call Wait Time = 2.97\n",
    "- 2b) South Branch, (round to the nearest hundredth):\n",
    "> - Busy Minutes =  10.05\n",
    "> - Not Ready Minutes = 1.91\n",
    "> - Incoming Wait Time = 3.00\n",
    "> - During Call Wait Time = 3.08\n",
    "- 3) Total Calls taken for all branches per time block:\n",
    "> - 9:00AM   = 10\n",
    "> - 10:00AM  = 99\n",
    "> - 11:00AM  = 56\n",
    "> - 12:00PM  = 120\n",
    "> - 1:00PM   = 40\n",
    "> - 2:00PM   = 65\n",
    "> - 3:00PM   = 73\n",
    "> - 4:00PM   = 53\n",
    "> - 5:00PM   = 43\n",
    "\n"
   ]
  },
  {
   "cell_type": "markdown",
   "id": "446048d3",
   "metadata": {},
   "source": [
    "<span style=\"background-color:orangered; color:orangered;\">- - - - - - - - - - - - - - - - - - - - - - - - - - - - - - - - - - - - - - - - - - - - - - - - - - - - - - - - - - - - - - - - - - - - - - - - - - - - - - - - - - - - - - - - -</span>"
   ]
  },
  {
   "cell_type": "markdown",
   "id": "366bfb19",
   "metadata": {},
   "source": [
    "## Cleaning Your Data \n",
    "Now you need to clean up the datasets. When cleaning the datasets, you may find that there isn't dirty data to clean. That is okay! Some questions you need to answer about the data sets.\n",
    "* Add additional code blocks as needed to show how you came to your conclusions. Add comments in your code blocks to help others understand your thinking. "
   ]
  },
  {
   "cell_type": "markdown",
   "id": "c3564d69",
   "metadata": {},
   "source": [
    "#### Cleaning Question 1:  Is there any missing data and if yes explain what you would do with the missing data and why?\n",
    "##### Record your answer by double clicking here:\n",
    "> Your Answer: There is only missing data in the Incoming Wait Time column for both data sets. This could be because for the variable Incoming Wait Time, all the blanks are for outgoing calls, so I will keep the missing data."
   ]
  },
  {
   "cell_type": "code",
   "execution_count": 159,
   "id": "b77fb574",
   "metadata": {},
   "outputs": [
    {
     "name": "stdout",
     "output_type": "stream",
     "text": [
      "Unnamed: 0 - 0%\n",
      "Branch - 0%\n",
      "Call Purpose - 0%\n",
      "Time Block - 0%\n",
      "Incoming or Outgoing - 0%\n",
      "Queue - 0%\n",
      "Rep ID - 0%\n",
      "Sale - 0%\n",
      "Lost Call - 0%\n",
      "Abandoned - 0%\n",
      "Busy Minutes - 0%\n",
      "Not Ready Minutes - 0%\n",
      "Incoming Wait Time - 67%\n",
      "During Call Wait Time - 0%\n",
      "Calls - 0%\n"
     ]
    }
   ],
   "source": [
    "# Code Used\n",
    "# Add Additional Cells as needed.\n",
    "\n",
    "#Percent missing in North\n",
    "for col in north_df.columns:\n",
    "    pct_missing = np.mean(north_df[col].isnull())\n",
    "    print(f'{col} - {round(pct_missing*100)}%')"
   ]
  },
  {
   "cell_type": "code",
   "execution_count": 158,
   "id": "a393d5e9",
   "metadata": {},
   "outputs": [
    {
     "name": "stdout",
     "output_type": "stream",
     "text": [
      "Unnamed: 0 - 0%\n",
      "Branch - 0%\n",
      "Call Purpose - 0%\n",
      "Time Block - 0%\n",
      "Incoming or Outgoing - 0%\n",
      "Queue - 0%\n",
      "Rep ID - 0%\n",
      "Sale - 0%\n",
      "Lost Call - 0%\n",
      "Abandoned - 0%\n",
      "Busy Minutes - 0%\n",
      "Not Ready Minutes - 0%\n",
      "Incoming Wait Time - 60%\n",
      "During Call Wait Time - 0%\n",
      "Calls - 0%\n"
     ]
    }
   ],
   "source": [
    "#Percent missing in South\n",
    "for col in south_df.columns:\n",
    "    pct_missing = np.mean(south_df[col].isnull())\n",
    "    print(f'{col} - {round(pct_missing*100)}%')"
   ]
  },
  {
   "cell_type": "code",
   "execution_count": 160,
   "id": "717b9206",
   "metadata": {},
   "outputs": [
    {
     "name": "stdout",
     "output_type": "stream",
     "text": [
      "Branch  Incoming or Outgoing  Incoming Wait Time\n",
      "North   Incoming              4.0                    20\n",
      "                              1.0                    17\n",
      "                              5.0                    17\n",
      "                              2.0                    16\n",
      "                              3.0                    12\n",
      "        Outgoing              NaN                   163\n",
      "Name: Incoming Wait Time, dtype: int64\n",
      "Branch  Incoming or Outgoing  Incoming Wait Time\n",
      "South   Incoming              4.0                    30\n",
      "                              3.0                    29\n",
      "                              2.0                    28\n",
      "                              1.0                    20\n",
      "                              5.0                    19\n",
      "        Outgoing              NaN                   188\n",
      "Name: Incoming Wait Time, dtype: int64\n"
     ]
    }
   ],
   "source": [
    "print(north_df.groupby([\"Branch\",\"Incoming or Outgoing\"])[\"Incoming Wait Time\"].value_counts(dropna=False))\n",
    "\n",
    "print(south_df.groupby([\"Branch\",\"Incoming or Outgoing\"])[\"Incoming Wait Time\"].value_counts(dropna=False))"
   ]
  },
  {
   "cell_type": "markdown",
   "id": "dc47f020",
   "metadata": {},
   "source": [
    "#### Cleaning Question 2:  In the North data set, there are two separate \"YES\" values for a sale. Why and how did you rectify the issue?\n",
    "##### Record your answer by double clicking here:\n",
    "> Your Answer: I figured that the second YES was probably erronenously including a space, so I replaced all \"YES \" with \"YES\""
   ]
  },
  {
   "cell_type": "code",
   "execution_count": 12,
   "id": "4e0fbad6",
   "metadata": {},
   "outputs": [
    {
     "data": {
      "text/plain": [
       "NO      234\n",
       "YES      10\n",
       "YES       1\n",
       "Name: Sale, dtype: int64"
      ]
     },
     "execution_count": 12,
     "metadata": {},
     "output_type": "execute_result"
    }
   ],
   "source": [
    "#Code Used\n",
    "# Add Additional Cells as needed.\n",
    "north_df[\"Sale\"].value_counts()"
   ]
  },
  {
   "cell_type": "markdown",
   "id": "33d0ecae",
   "metadata": {},
   "source": [
    "I realized that the second YES probably contained a space after, so I wrote the following program to correct for that and show the change:"
   ]
  },
  {
   "cell_type": "code",
   "execution_count": 13,
   "id": "57014081",
   "metadata": {},
   "outputs": [
    {
     "data": {
      "text/plain": [
       "NO     234\n",
       "YES     11\n",
       "Name: Sale, dtype: int64"
      ]
     },
     "execution_count": 13,
     "metadata": {},
     "output_type": "execute_result"
    }
   ],
   "source": [
    "north_df[\"Sale\"] = north_df[[\"Sale\"]].replace({\"YES \": \"YES\"})\n",
    "north_df[\"Sale\"].value_counts()"
   ]
  },
  {
   "cell_type": "markdown",
   "id": "715f375a",
   "metadata": {},
   "source": [
    "#### Cleaning Question 3:  Are there duplicates in the two data sets? If there are, how did you handle them?\n",
    "##### Record your answer by double clicking here:\n",
    "> Your Answer: There are no duplicates in either data set. If there were duplicates, I would have more carefully analyzed them to determine and probably dropped them."
   ]
  },
  {
   "cell_type": "code",
   "execution_count": 3,
   "id": "2323673a",
   "metadata": {},
   "outputs": [
    {
     "name": "stdout",
     "output_type": "stream",
     "text": [
      "North number of duplicates: 0\n",
      "South number of duplicates: 0\n"
     ]
    }
   ],
   "source": [
    "#Code Used\n",
    "# Add Additional Cells as needed.\n",
    "print(f\"North number of duplicates: {north_df.duplicated().sum()}\")\n",
    "print(f\"South number of duplicates: {south_df.duplicated().sum()}\")"
   ]
  },
  {
   "cell_type": "markdown",
   "id": "8ffaa865",
   "metadata": {},
   "source": [
    "#### Cleaning Question 4:  Is any of the data in the two data sets unnecessary? If yes, how did you handle it?\n",
    "##### Record your answer by double clicking here:\n",
    "> Your Answer: I think the feature Calls is not necessary for analysis. However, it appears like Calls is useful for the visualization section later, so I decided to keep it. All others can be useful in some way, so I will leave them in. "
   ]
  },
  {
   "cell_type": "code",
   "execution_count": 157,
   "id": "78b45e70",
   "metadata": {},
   "outputs": [
    {
     "name": "stdout",
     "output_type": "stream",
     "text": [
      "\n",
      "North Calls: 245 \n",
      "South Calls: 314\n",
      "\n",
      "Index(['Unnamed: 0', 'Branch', 'Call Purpose', 'Time Block',\n",
      "       'Incoming or Outgoing', 'Queue', 'Rep ID', 'Sale', 'Lost Call',\n",
      "       'Abandoned', 'Busy Minutes', 'Not Ready Minutes', 'Incoming Wait Time',\n",
      "       'During Call Wait Time', 'Calls'],\n",
      "      dtype='object')\n",
      "Index(['Unnamed: 0', 'Branch', 'Call Purpose', 'Time Block',\n",
      "       'Incoming or Outgoing', 'Queue', 'Rep ID', 'Sale', 'Lost Call',\n",
      "       'Abandoned', 'Busy Minutes', 'Not Ready Minutes', 'Incoming Wait Time',\n",
      "       'During Call Wait Time', 'Calls'],\n",
      "      dtype='object')\n"
     ]
    },
    {
     "data": {
      "text/plain": [
       "array([4, 3, 2], dtype=int64)"
      ]
     },
     "execution_count": 157,
     "metadata": {},
     "output_type": "execute_result"
    }
   ],
   "source": [
    "#Code Used\n",
    "# Add Additional Cells as needed.\n",
    "\n",
    "#checking for how many calls were at each call center\n",
    "print(\"\\nNorth Calls: {0} \\nSouth Calls: {1}\\n\".format(north_df[\"Calls\"].count(), south_df[\"Calls\"].count()))\n",
    "\n",
    "print(north_df.columns)\n",
    "print(south_df.columns)\n"
   ]
  },
  {
   "cell_type": "markdown",
   "id": "f67d89ab",
   "metadata": {},
   "source": [
    "<span style=\"background-color:orangered; color:orangered;\">- - - - - - - - - - - - - - - - - - - - - - - - - - - - - - - - - - - - - - - - - - - - - - - - - - - - - - - - - - - - - - - - - - - - - - - - - - - - - - - - - - - - - - - - -</span>"
   ]
  },
  {
   "cell_type": "markdown",
   "id": "73342a9a",
   "metadata": {},
   "source": [
    "## Data Manipulation\n",
    "Before you begin answering any questions, combine the two datasets together to create a third dataframe called df. You can use this third dataframe to compare the two call centers to company-wide trends.\n",
    "* Add additional code blocks as needed to show how you came to your conclusions. Add comments in your code blocks to help others understand your thinking. Record your answer by double clicking the below cell."
   ]
  },
  {
   "cell_type": "code",
   "execution_count": 20,
   "id": "e9705c34",
   "metadata": {},
   "outputs": [
    {
     "name": "stdout",
     "output_type": "stream",
     "text": [
      "<class 'pandas.core.frame.DataFrame'>\n",
      "RangeIndex: 559 entries, 0 to 558\n",
      "Data columns (total 15 columns):\n",
      " #   Column                 Non-Null Count  Dtype  \n",
      "---  ------                 --------------  -----  \n",
      " 0   Unnamed: 0             559 non-null    int64  \n",
      " 1   Branch                 559 non-null    object \n",
      " 2   Call Purpose           559 non-null    object \n",
      " 3   Time Block             559 non-null    object \n",
      " 4   Incoming or Outgoing   559 non-null    object \n",
      " 5   Queue                  559 non-null    object \n",
      " 6   Rep ID                 559 non-null    object \n",
      " 7   Sale                   559 non-null    object \n",
      " 8   Lost Call              559 non-null    int64  \n",
      " 9   Abandoned              559 non-null    int64  \n",
      " 10  Busy Minutes           559 non-null    int64  \n",
      " 11  Not Ready Minutes      559 non-null    int64  \n",
      " 12  Incoming Wait Time     208 non-null    float64\n",
      " 13  During Call Wait Time  559 non-null    int64  \n",
      " 14  Calls                  559 non-null    int64  \n",
      "dtypes: float64(1), int64(7), object(7)\n",
      "memory usage: 65.6+ KB\n"
     ]
    }
   ],
   "source": [
    "# Create dataframe for the entire company named df\n",
    "df = pd.concat([north_df, south_df], ignore_index = True)\n",
    "df.tail()\n",
    "\n",
    "df.info()"
   ]
  },
  {
   "cell_type": "markdown",
   "id": "7e87dfd1",
   "metadata": {},
   "source": [
    "#### Manipulation Question 1:  Group by Rep ID and sum the resulting structure. Sort by calls to determine which rep in each branch has the highest number of calls.\n",
    "\n",
    "##### Record your answer by double clicking here:\n",
    "Rep with the hightest number of calls and their total calls:\n",
    "- North Branch = Brent with 37 calls\n",
    "- South Branch = Eric with 35 calls\n"
   ]
  },
  {
   "cell_type": "code",
   "execution_count": 166,
   "id": "3953f09a",
   "metadata": {},
   "outputs": [
    {
     "data": {
      "text/plain": [
       "Branch  Rep ID\n",
       "North   Brent     37\n",
       "        Lilly     30\n",
       "        Duke      29\n",
       "        Todd      29\n",
       "        Joe       26\n",
       "        Cam       24\n",
       "        Xander    24\n",
       "        Amanda    23\n",
       "        Andy      23\n",
       "South   Eric      35\n",
       "        Randy     33\n",
       "        Sandy     32\n",
       "        Helga     31\n",
       "        George    29\n",
       "        Kate      29\n",
       "        Karl      28\n",
       "        Josh      26\n",
       "        Susan     26\n",
       "        Sharon    25\n",
       "        Alice     20\n",
       "Name: Rep ID, dtype: int64"
      ]
     },
     "execution_count": 166,
     "metadata": {},
     "output_type": "execute_result"
    }
   ],
   "source": [
    "# Code Used\n",
    "# Add Additional Cells as needed.\n",
    "groupby_RepID = df.groupby(\"Branch\")[\"Rep ID\"].value_counts()\n",
    "groupby_RepID"
   ]
  },
  {
   "cell_type": "markdown",
   "id": "809293b9",
   "metadata": {},
   "source": [
    "#### Manipulation Question 2:  The average call abandonment rate is a KPI when it comes to determining call center efficiency. As you may recall, abandoned calls are calls where the customer hangs up due to long call times. What is the average call abandonment rate for each branch and the whole company? Do any of these fall out of the optimal range of 2-5%?\n",
    "##### Record your answer by double clicking here:\n",
    "Average Call Abandonment Rates (round to the nearest hundredth):\n",
    "- North Branch = 4.90%\n",
    "- South Branch = 4.78%\n",
    "- Company Wide = 4.83%\n",
    "- Do any of these fall out of the optimal range of 2-5%? \n",
    "  \n",
    "  Neither the North or South branch are outside of the 2-5% range, but both call centers are dangerously close to the 5% mark. \n",
    "  Therefore, it is probably wise to look more carefully at the efficiency of both centers."
   ]
  },
  {
   "cell_type": "code",
   "execution_count": 169,
   "id": "3dff7534",
   "metadata": {},
   "outputs": [
    {
     "name": "stdout",
     "output_type": "stream",
     "text": [
      "Whole Company (%): \n",
      "4.83 \n",
      "North and South Individually (%):\n",
      "Branch\n",
      "North    4.90\n",
      "South    4.78\n",
      "dtype: float64\n"
     ]
    }
   ],
   "source": [
    "# Code Used\n",
    "\n",
    "#2-5% Optimum Calculation\n",
    "pct_lost_abandon = round((df[\"Lost Call\"].mean() + df[\"Abandoned\"].mean())*100,2)\n",
    "pct_lost_abandon_grouped = round((df.groupby(\"Branch\")[[\"Lost Call\", \"Abandoned\"]].mean().sum(axis = 1))*100,2)\n",
    "print(f\"Whole Company (%): \\n{pct_lost_abandon} \\nNorth and South Individually (%):\\n{pct_lost_abandon_grouped}\")"
   ]
  },
  {
   "cell_type": "markdown",
   "id": "598bb1bf",
   "metadata": {},
   "source": [
    "#### Manipulation Question 3:  Service level is another KPI when it comes to measuring call center efficiency. Service level is the percentage of calls answered within a specific number of seconds. In the case of your employer, their ideal time frame is 2 seconds. What is the percentage of calls answered within 2 seconds for each branch and the entire company?\n",
    "##### Record your answer by double clicking here:\n",
    "Percentage of calls answered within 2 seconds, include # of calls:\n",
    "- North Branch = 40.2% are answered less than 2 seconds (33 out of 82 incoming calls)\n",
    "- South Branch = 38.1% are answered less than 2 seconds (48 out of 126 incoming calls)\n",
    "- Company Wide = 38.9% are answered less than 2 seconds (81 out of 208 incoming calls)"
   ]
  },
  {
   "cell_type": "code",
   "execution_count": 143,
   "id": "2fc8f669",
   "metadata": {},
   "outputs": [
    {
     "name": "stdout",
     "output_type": "stream",
     "text": [
      "\n",
      "North calls answered within 2 sec: 40.24%, or 33 out of 82\n",
      "\n",
      "South calls answered within 2 sec: 38.1%, or 48 out of 126\n",
      "\n",
      "Company calls answered within 2 sec: 38.94%, or 81 out of 208\n"
     ]
    }
   ],
   "source": [
    "# Code Used\n",
    "# Add Additional Cells as needed.\n",
    "\n",
    "#I grouped by \"Branch\" then \"Incoming or Outgoing\", then looked at \"Incoming Wait Time\"\n",
    "incoming_wait_time = df.groupby(\"Branch\")[\"Incoming Wait Time\"].value_counts().sort_index()\n",
    "incoming_wait_time\n",
    "\n",
    "#Calculating number of calls answered within 2 seconds\n",
    "north_wait = incoming_wait_time[0:2].sum()\n",
    "south_wait = incoming_wait_time[5:7].sum()\n",
    "company_wait = north_wait + south_wait\n",
    "\n",
    "#Calculating the percent of calls answered within 2 seconds per branch (top) and per whole company (bottom)\n",
    "pct_answered_north = round((north_wait / incoming_wait_time[:5].sum())*100,2)\n",
    "pct_answered_south = round((south_wait / incoming_wait_time[5:].sum())*100,2)\n",
    "pct_answered_company = round(((north_wait + south_wait) / incoming_wait_time[:].sum())*100,2)\n",
    "\n",
    "print(f\"\\nNorth calls answered within 2 sec: {pct_answered_north}%, or {north_wait} out of {incoming_wait_time[:5].sum()}\")\n",
    "print(f\"\\nSouth calls answered within 2 sec: {pct_answered_south}%, or {south_wait} out of {incoming_wait_time[5:].sum()}\")\n",
    "print(f\"\\nCompany calls answered within 2 sec: {pct_answered_company}%, or {company_wait} out of {incoming_wait_time[:].sum()}\")\n",
    "\n"
   ]
  },
  {
   "cell_type": "markdown",
   "id": "7e19e705",
   "metadata": {},
   "source": [
    "#### Manipulation Question 4: For each branch and the entire company, what is the average speed of answer?\n",
    "##### Record your answer by double clicking here:\n",
    "Average speed of answer (rounded to nearest hundredth):\n",
    "- North Branch in seconds = 3.05 seconds\n",
    "- South Branch in seconds = 3.00 seconds\n",
    "- Company Wide in seconds = 3.02 seconds\n"
   ]
  },
  {
   "cell_type": "code",
   "execution_count": 56,
   "id": "72a653ed",
   "metadata": {},
   "outputs": [
    {
     "name": "stdout",
     "output_type": "stream",
     "text": [
      "Branch  Incoming or Outgoing\n",
      "North   Incoming                3.04878\n",
      "South   Incoming                3.00000\n",
      "Name: Incoming Wait Time, dtype: float64\n",
      "Incoming or Outgoing\n",
      "Incoming    3.019231\n",
      "Name: Incoming Wait Time, dtype: float64\n"
     ]
    }
   ],
   "source": [
    "# Code Used \n",
    "answer_speed_time = df[[\"Incoming or Outgoing\",\"Branch\",\"Incoming Wait Time\"]]\n",
    "print(answer_speed_time.groupby([\"Branch\",\"Incoming or Outgoing\"])[\"Incoming Wait Time\"].mean().dropna())\n",
    "print(answer_speed_time.groupby(\"Incoming or Outgoing\")[\"Incoming Wait Time\"].mean().dropna())\n"
   ]
  },
  {
   "cell_type": "markdown",
   "id": "ba3ca2cd",
   "metadata": {},
   "source": [
    "<span style=\"background-color:orangered; color:orangered;\">- - - - - - - - - - - - - - - - - - - - - - - - - - - - - - - - - - - - - - - - - - - - - - - - - - - - - - - - - - - - - - - - - - - - - - - - - - - - - - - - - - - - - - - - -</span>"
   ]
  },
  {
   "cell_type": "markdown",
   "id": "d5f50a40",
   "metadata": {},
   "source": [
    "## Visualization\n",
    "\n",
    "Create a visualization for each of the following questions. Some of the code to handle aggregating and storing data may be written for you. For each visualization, you choose the chart style that you feel suits the situation best. Make note of the chart style you chose and why. \n",
    "\n",
    "*NOTE Some questions you may decide to use more than one chart and or chart style."
   ]
  },
  {
   "cell_type": "markdown",
   "id": "66ccf83c",
   "metadata": {},
   "source": [
    "#### Visualization 1:  What is the average abandonment rate per queue?\n",
    "##### Record your answer by double clicking here:\n",
    "\n",
    "> Chart style you chose and why: I chose a bar chart because I thought it would be the simpliest to display each group and their call abandment rates (1 dependent variable and 1 independent variable)"
   ]
  },
  {
   "cell_type": "code",
   "execution_count": 142,
   "id": "c971d779",
   "metadata": {
    "scrolled": false
   },
   "outputs": [
    {
     "name": "stdout",
     "output_type": "stream",
     "text": [
      "{'A': 0.041666666666666664, 'B': 0.020134228187919462, 'C': 0.007246376811594203, 'D': 0.017045454545454544}\n"
     ]
    },
    {
     "data": {
      "text/plain": [
       "<BarContainer object of 4 artists>"
      ]
     },
     "execution_count": 142,
     "metadata": {},
     "output_type": "execute_result"
    },
    {
     "data": {
      "image/png": "[encoded data removed]",
      "text/plain": [
       "<Figure size 640x480 with 1 Axes>"
      ]
     },
     "metadata": {},
     "output_type": "display_data"
    }
   ],
   "source": [
    "# Create visualization 1 here\n",
    "# Import any additional libraries needed with alias\n",
    "\n",
    "# The dictionary abandonment_rates has the data you need.\n",
    "abandonment_rates = {}\n",
    "queues = [\"A\", \"B\", \"C\", \"D\"]\n",
    "queue_dict = df.groupby(\"Queue\").agg(\"sum\")\n",
    "for i in range(4):\n",
    "    abandonment_rates[queues[i]] = queue_dict[\"Abandoned\"][i] / queue_dict[\"Calls\"][i] \n",
    "print(abandonment_rates)\n",
    "\n",
    "\n",
    "#Your Code Here:\n",
    "x = list(abandonment_rates.keys())\n",
    "y = list(abandonment_rates.values())\n",
    "abandonment_chart = plt.bar(x, y)\n",
    "plt.title(\"Average Abandonment Rate per Queue\")\n",
    "plt.xlabel(\"Queue\")\n",
    "plt.ylabel(\"Average Rate\")\n",
    "abandonment_chart\n",
    "\n"
   ]
  },
  {
   "cell_type": "markdown",
   "id": "4a9fc77f",
   "metadata": {},
   "source": [
    "#### Visualization 2: What is the service level percentage and average speed of answer for each rep in the North Branch?\n",
    "##### Record your answer by double clicking here:\n",
    "\n",
    "> Chart style you chose and why: I chosed a horizontal bar graph for each (Average Speed and Rep's Personal Service Level) because it's easier to compare each Rep's statistics. It makes sense, for instance, that the lower the average speed, the higher the rep's personal service level is (such as Joe who has one of the highest average speed at around 3.5 seconds and the lowest Service Level at around 20%)."
   ]
  },
  {
   "cell_type": "code",
   "execution_count": 129,
   "id": "61f65a7f",
   "metadata": {
    "scrolled": false
   },
   "outputs": [
    {
     "data": {
      "text/plain": [
       "<AxesSubplot:title={'center':'Average Speed of Calls Answered in the North Branch'}, xlabel='Average speed (seconds)', ylabel='Rep ID'>"
      ]
     },
     "execution_count": 129,
     "metadata": {},
     "output_type": "execute_result"
    },
    {
     "data": {
      "image/png": "[encoded data removed]",
      "text/plain": [
       "<Figure size 640x480 with 1 Axes>"
      ]
     },
     "metadata": {},
     "output_type": "display_data"
    }
   ],
   "source": [
    "# Create visualization 2 here\n",
    "# north_plt contains the data you need for the average speed of answer of each rep\n",
    "\n",
    "north_plt = north_df.groupby(\"Rep ID\")[\"Incoming Wait Time\"].mean().to_frame().reset_index()\n",
    "\n",
    "# Finding each Rep's Personal Service Level Percentage.  Basically, Calls within 2 secs / total calls\n",
    "\n",
    "# Table 1: Total Incoming calls less than 2 seconds grouped by Rep\n",
    "quick_calls = north_df[north_df[\"Incoming Wait Time\"] <= 2.0] \n",
    "quick_reps = quick_calls[[\"Rep ID\", \"Calls\"]]\n",
    "quick_stats = quick_reps.groupby([\"Rep ID\"]).sum()  # Final Table\n",
    "\n",
    "\n",
    "# Table 2: Total Incoming Calls Only grouped by Rep\n",
    "total_calls_in = north_df[north_df[\"Incoming or Outgoing\"] == \"Incoming\"]\n",
    "rep_calls = total_calls_in[[\"Rep ID\", \"Calls\"]]     \n",
    "total_stats = rep_calls.groupby([\"Rep ID\"]).sum() # Final Table  \n",
    "\n",
    "#  Table 3: Service Level Percentage created via merge\n",
    "service_level = pd.merge(quick_stats, total_stats, on=\"Rep ID\")\n",
    "service_level\n",
    "# Create Percentage Column in Table 3\n",
    "service_level[\"Service Level %\"] = service_level[\"Calls_x\"]/service_level[\"Calls_y\"] * 100\n",
    "\n",
    "#AVERAGE SPEED OF ANSWER GRAPH CODE\n",
    "north_plt\n",
    "\n",
    "x = north_plt[\"Rep ID\"]\n",
    "y = north_plt[\"Incoming Wait Time\"]\n",
    "avg_speed_bar = sns.barplot(y = north_plt[\"Rep ID\"], x = north_plt[\"Incoming Wait Time\"])\n",
    "plt.title(\"Average Speed of Calls Answered in the North Branch\", color = \"blue\")\n",
    "plt.xlabel(\"Average speed (seconds)\", color = \"blue\")\n",
    "plt.ylabel(\"Rep ID\", color = \"blue\")\n",
    "avg_speed_bar\n"
   ]
  },
  {
   "cell_type": "code",
   "execution_count": 130,
   "id": "8c96fb27",
   "metadata": {},
   "outputs": [
    {
     "data": {
      "text/plain": [
       "[Text(0.5, 1.0, \"Rep's Service Level Percentage \\n in the North Branch\")]"
      ]
     },
     "execution_count": 130,
     "metadata": {},
     "output_type": "execute_result"
    },
    {
     "data": {
      "image/png": "[encoded data removed]",
      "text/plain": [
       "<Figure size 640x480 with 1 Axes>"
      ]
     },
     "metadata": {},
     "output_type": "display_data"
    }
   ],
   "source": [
    "#REP'S PERSONAL SERVICE LEVEL % GRAPH CODE\n",
    "service_level_df = pd.DataFrame(service_level).reset_index()\n",
    "service_level_df\n",
    "\n",
    "service_level_chart = sns.barplot(x = service_level_df[\"Service Level %\"], y = service_level_df[\"Rep ID\"])\n",
    "service_level_chart.set(title = \"Rep's Service Level Percentage \\n in the North Branch\")"
   ]
  },
  {
   "cell_type": "markdown",
   "id": "f965e41a",
   "metadata": {},
   "source": [
    "#### Visualization 3: For each type of call purpose, how many calls are outgoing vs. incoming?\n",
    "##### Record your answer by double clicking here:\n",
    "\n",
    "> Chart style you chose and why: I chose a grouped bar chart because I thought it would be easiest to visually display the difference between how many calls were outgoing and incoming for each type of call"
   ]
  },
  {
   "cell_type": "code",
   "execution_count": 131,
   "id": "44096730",
   "metadata": {},
   "outputs": [
    {
     "data": {
      "text/plain": [
       "(array([0, 1, 2]),\n",
       " [Text(0, 0, 'Complaint'),\n",
       "  Text(1, 0, 'Product Support'),\n",
       "  Text(2, 0, 'Sales Support')])"
      ]
     },
     "execution_count": 131,
     "metadata": {},
     "output_type": "execute_result"
    },
    {
     "data": {
      "image/png": "[encoded data removed]",
      "text/plain": [
       "<Figure size 640x480 with 1 Axes>"
      ]
     },
     "metadata": {},
     "output_type": "display_data"
    }
   ],
   "source": [
    "# Create visualization 3 here:\n",
    "# The three dictionaries, complaints, sales_support, and product_support, have the information you need\n",
    "\n",
    "purpose_group = df.groupby(\"Call Purpose\")\n",
    "call_purpose = [\"Complaint\", \"Product Support\", \"Sales Support\"]\n",
    "purpose_counts = purpose_group[\"Incoming or Outgoing\"].value_counts()\n",
    "purpose_counts\n",
    "\n",
    "complaints = purpose_counts[\"Complaint\"].to_dict()\n",
    "sales_support = purpose_counts[\"Sales Support\"].to_dict()\n",
    "product_support = purpose_counts[\"Product Support\"].to_dict()\n",
    "\n",
    "#Your Code Here:\n",
    "\n",
    "plot = pd.DataFrame([complaints, sales_support, product_support],call_purpose)\n",
    "\n",
    "plot.plot(kind = \"bar\")\n",
    "plt.title('Types of Calls', color = 'blue')\n",
    "plt.xlabel('Call Type', color = 'blue')\n",
    "plt.ylabel('Number of Calls', color = 'blue')\n",
    "plt.xticks(rotation = 0)\n"
   ]
  },
  {
   "cell_type": "markdown",
   "id": "9549922c",
   "metadata": {},
   "source": [
    "<span style=\"background-color:orangered; color:orangered;\">- - - - - - - - - - - - - - - - - - - - - - - - - - - - - - - - - - - - - - - - - - - - - - - - - - - - - - - - - - - - - - - - - - - - - - - - - - - - - - - - - - - - - - - - -</span>"
   ]
  },
  {
   "cell_type": "markdown",
   "id": "ea7ed568",
   "metadata": {},
   "source": [
    "## Summarize Your Work\n",
    "\n",
    "With what you know now about the two call centers and the entire company, answer the following questions. Note that while this is subjective, you should include relevant data to back up your opinion.\n"
   ]
  },
  {
   "cell_type": "markdown",
   "id": "d2fc3d13",
   "metadata": {},
   "source": [
    "#### Summary Question 1:  Using KPIs such as average abandonment rate, service level and average speed of answer, in your opinion, which one of the two branches is operating more efficiently? Why?\n",
    "\n",
    "##### Record your answer by double clicking here:\n",
    "> Your Answer: The South Branch seems to be operating with slightly more efficiency. Given that the South Branch handled more calls (126 incoming calls versus the North Branch handling 82 incoming calls), it's abandonment rate was still lower at 4.78%  where the North Branch abandonment rate was 4.90%. The North Branch performed better in service level where 40.2% of incoming calls were answered in 2 seconds or less; the South Branch answered 2 seconds or less only 38.1% of their calls. \n"
   ]
  },
  {
   "cell_type": "markdown",
   "id": "489f28d6",
   "metadata": {},
   "source": [
    "#### Summary Question 2: Based on the number of reps in each branch and how quickly the reps are working, in your opinion, which branch would benefit from the extra help?\n",
    "\n",
    "##### Record your answer by double clicking here:\n",
    "> Your Answer: If help can only go to one branch, I would recommend that the North Branch get another representative. Although the South Branch deals with more calls and the service level is slightly worse at 38%, the North Branch had worse KPIs for customer dissatisfaction (call abandonment rate, average speed, etc.). However, given that more calls come through the South branch, hiring more help for the South branch would also benefit the company."
   ]
  },
  {
   "cell_type": "markdown",
   "id": "0b10a8c3",
   "metadata": {},
   "source": [
    "#### Summary Question 3: Now that you have explored the datasets, is there any data or information that you wish you had in this analysis?\n",
    "\n",
    "##### Record your answer by double clicking here:\n",
    "> Your Answer: I think it would be helpful to receive customer satisfaction ratings (scale of 1-5 or something like that) in order to determine which Branch provided better overall customer service. Maybe the North Branch doesn't receive as many calls because the representatives aren't as friendly or maybe the South Branch receives more calls because people are having to call back multiple times in order to receive product support.\n"
   ]
  },
  {
   "cell_type": "markdown",
   "id": "8bbc535f",
   "metadata": {},
   "source": [
    "<span style=\"background-color:orangered; color:orangered;\">- - - - - - - - - - - - - - - - - - - - - - - - - - - - - - - - - - - - - - - - - - - - - - - - - - - - - - - - - - - - - - - - - - - - - - - - - - - - - - - - - - - - - - - - -</span>"
   ]
  },
  {
   "cell_type": "markdown",
   "id": "ce16f43d",
   "metadata": {},
   "source": [
    "## Bonus Mission\n",
    "Create a visualization that answers this question: For each call purpose, how many calls (incoming and outgoing) take place in each time block?\n",
    "##### Record your answer by double clicking here:\n",
    "\n",
    "> Chart style you chose and why: "
   ]
  },
  {
   "cell_type": "code",
   "execution_count": null,
   "id": "71b04f32",
   "metadata": {},
   "outputs": [],
   "source": [
    "# Create your Bonus Mission visualization here!\n",
    "call_times = df[[\"Time Block\", \"Call Purpose\", \"Incoming or Outgoing\", \"Calls\"]]\n",
    "\n",
    "# Use groupby to plot based on time blocks:\n",
    "\n",
    "# Use groupby and get_group to select which call purpose to plot:"
   ]
  }
 ],
 "metadata": {
  "kernelspec": {
   "display_name": "Python 3 (ipykernel)",
   "language": "python",
   "name": "python3"
  },
  "language_info": {
   "codemirror_mode": {
    "name": "ipython",
    "version": 3
   },
   "file_extension": ".py",
   "mimetype": "text/x-python",
   "name": "python",
   "nbconvert_exporter": "python",
   "pygments_lexer": "ipython3",
   "version": "3.9.13"
  }
 },
 "nbformat": 4,
 "nbformat_minor": 5
}
