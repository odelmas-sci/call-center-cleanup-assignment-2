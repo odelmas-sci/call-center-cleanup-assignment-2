{
 "cells": [
  {
   "cell_type": "markdown",
   "id": "331a1c4f",
   "metadata": {},
   "source": [
    "# Call Center Cleanup\n",
    "\n",
    "For this assignment, we will be working with call center data. You can start working on the assignment after the first lesson on Exploratory Data Analysis. Make sure to read the whole assignment before starting anything! As you code along in the Jupyter notebook, you are asked to make note of the results of your analysis. Do so by clicking on the results box and adding your notes beside each question.\n",
    "\n",
    "## Business Issue and Understanding\n",
    "\n",
    "You are working for a company that has two call centers: the North Call Center and the South Call Center. The company is looking to possibly hire five additional reps to enhance customer experience. Your task is to explore how efficient the current reps are in each branch to determine which branch would benefit from additional assistance.\n",
    "\n",
    "### How the Call Center Works\n",
    "\n",
    "Call center representatives are assigned queues. When calls are assigned to a queue, the call is assigned to the next person in line in the queue. After a call is assigned to a representative, the amount of time between assignment and the call starting is divided into busy minutes and not ready minutes. If the call is incoming and a customer is waiting on the phone for a rep, the time is split into three categories: busy minutes, not ready minutes, and incoming call wait time. Once the rep has the customer on the phone, there might be during call wait time, where the call is put on hold while the rep gets an answer for the customer.\n",
    "\n",
    "### Notes about the Dataset\n",
    "\n",
    "If you haven't worked in a call center before, these notes might help you throughout your analysis.\n",
    "\n",
    "* The call purpose is tagged for each call.\n",
    "* The time of the call is tagged in 1 hour blocks starting at 9:00 AM and ending at 5:00 PM.\n",
    "* Calls are tagged as incoming or outgoing.\n",
    "* Reps are assigned to queues. When the reps are working, they take calls in the order of their queue.\n",
    "* A call that is dropped due to technical error or missed by the center because they have reached maximum capacity is a lost call.\n",
    "* An abandoned call is when the customer hangs up because they have been waiting for too long.\n",
    "* Busy Minutes: the amount of time after a call comes in or needs to go out where the assigned rep is not available because they are busy with other customers.\n",
    "* Not Ready Minutes: the amount of time after a call comes in or needs to go out where the assigned rep is not available because they are not ready (for example, getting water).\n",
    "* Incoming Wait Time - amount of time after assigned rep is available to take the call customer waits for representative to pick up a call. This is tracked in seconds.\n",
    "* During Call Wait Time - amount of time during call that customer has to wait for representative\n",
    "\n",
    "## Getting Started\n",
    "\n",
    "You have two CSVs at your disposal, `NorthCallCenter.csv` and `SouthCallCenter.csv`. Import the appropriate libraries and create two dataframes, one called `north_df` and one called `south_df`."
   ]
  },
  {
   "cell_type": "code",
   "execution_count": 1,
   "id": "f362436b",
   "metadata": {},
   "outputs": [],
   "source": [
    "# Import the appropriate libraries with aliases\n",
    "import pandas as pd\n",
    "import numpy as np\n",
    "import matplotlib.pyplot as plt\n",
    "import seaborn as sns\n",
    "# Create two new dataframes\n",
    "north_df = pd.read_csv(\"NorthCallCenter.csv\")\n",
    "south_df = pd.read_csv(\"SouthCallCenter.csv\")"
   ]
  },
  {
   "cell_type": "markdown",
   "id": "37f77cd4",
   "metadata": {},
   "source": [
    "<span style=\"background-color:orangered; color:orangered;\">- - - - - - - - - - - - - - - - - - - - - - - - - - - - - - - - - - - - - - - - - - - - - - - - - - - - - - - - - - - - - - - - - - - - - - - - - - - - - - - - - - - - - - - - -</span>"
   ]
  },
  {
   "cell_type": "markdown",
   "id": "b4d3484b",
   "metadata": {},
   "source": [
    "## Exploratory Data Analysis\n",
    "\n",
    "Time to do some EDA! In the process of learning more about the two datasets, answer the following questions. In the code blocks below enter the code used to solve the question.  At the end of the section record your answers by double clicking where asked."
   ]
  },
  {
   "cell_type": "markdown",
   "id": "76898991",
   "metadata": {},
   "source": [
    "#### EDA Question 1A:  How many reps are in the North branch?  "
   ]
  },
  {
   "cell_type": "code",
   "execution_count": 2,
   "id": "ce3eb5e4",
   "metadata": {},
   "outputs": [
    {
     "data": {
      "text/plain": [
       "array(['Brent', 'Cam', 'Todd', 'Duke', 'Joe', 'Lilly', 'Amanda', 'Andy',\n",
       "       'Xander'], dtype=object)"
      ]
     },
     "execution_count": 2,
     "metadata": {},
     "output_type": "execute_result"
    }
   ],
   "source": [
    "#Code Used:\n",
    "north_df.columns\n",
    "north_df[\"Rep ID\"].unique()"
   ]
  },
  {
   "cell_type": "markdown",
   "id": "2a9b34d8",
   "metadata": {},
   "source": [
    "#### EDA Question 1B:  How many reps are in the South branch?  "
   ]
  },
  {
   "cell_type": "code",
   "execution_count": 3,
   "id": "3c715bbf",
   "metadata": {},
   "outputs": [
    {
     "data": {
      "text/plain": [
       "array(['Kate', 'Eric', 'Susan', 'Alice', 'Sandy', 'Karl', 'Randy',\n",
       "       'George', 'Helga', 'Josh', 'Sharon'], dtype=object)"
      ]
     },
     "execution_count": 3,
     "metadata": {},
     "output_type": "execute_result"
    }
   ],
   "source": [
    "#Code Used:\n",
    "south_df.columns\n",
    "south_df[\"Rep ID\"].unique()"
   ]
  },
  {
   "cell_type": "markdown",
   "id": "a872f045",
   "metadata": {},
   "source": [
    "#### EDA Question 2A:  What is the average busy minutes, not ready minutes, incoming wait time, and during call wait time for the North branch? "
   ]
  },
  {
   "cell_type": "code",
   "execution_count": 4,
   "id": "3759305f",
   "metadata": {},
   "outputs": [
    {
     "data": {
      "text/plain": [
       "Busy Minutes             9.987755\n",
       "Not Ready Minutes        1.914286\n",
       "Incoming Wait Time       3.048780\n",
       "During Call Wait Time    2.967347\n",
       "dtype: float64"
      ]
     },
     "execution_count": 4,
     "metadata": {},
     "output_type": "execute_result"
    }
   ],
   "source": [
    "#Code Used:\n",
    "north_df[[\"Busy Minutes\", \"Not Ready Minutes\", \"Incoming Wait Time\", \"During Call Wait Time\"]].mean()"
   ]
  },
  {
   "cell_type": "markdown",
   "id": "3851cf3e",
   "metadata": {},
   "source": [
    "#### EDA Question 2B:  What is the average busy minutes, not ready minutes, incoming wait time, and during call wait time for the South branch? "
   ]
  },
  {
   "cell_type": "code",
   "execution_count": 5,
   "id": "a77ec152",
   "metadata": {},
   "outputs": [
    {
     "data": {
      "text/plain": [
       "Busy Minutes             10.054140\n",
       "Not Ready Minutes         1.910828\n",
       "Incoming Wait Time        3.000000\n",
       "During Call Wait Time     3.076433\n",
       "dtype: float64"
      ]
     },
     "execution_count": 5,
     "metadata": {},
     "output_type": "execute_result"
    }
   ],
   "source": [
    "#Code Used:\n",
    "south_df[[\"Busy Minutes\", \"Not Ready Minutes\", \"Incoming Wait Time\", \"During Call Wait Time\"]].mean()"
   ]
  },
  {
   "cell_type": "markdown",
   "id": "75915553",
   "metadata": {},
   "source": [
    "#### EDA Question 3:  What is the number of calls taken for each time block(Both North and South combined)?"
   ]
  },
  {
   "cell_type": "code",
   "execution_count": 6,
   "id": "49566936",
   "metadata": {},
   "outputs": [
    {
     "data": {
      "text/plain": [
       "10:00 AM     99\n",
       "11:00 AM     56\n",
       "12:00 PM    120\n",
       "1:00 PM      40\n",
       "2:00 PM      65\n",
       "3:00 PM      73\n",
       "4:00 PM      53\n",
       "5:00 PM      43\n",
       "9:00 AM      10\n",
       "Name: Time Block, dtype: int64"
      ]
     },
     "execution_count": 6,
     "metadata": {},
     "output_type": "execute_result"
    }
   ],
   "source": [
    "# Code Used:\n",
    "north_df[\"Time Block\"].value_counts(ascending = True) + south_df[\"Time Block\"].value_counts(ascending = True)"
   ]
  },
  {
   "cell_type": "markdown",
   "id": "40b1fd3f",
   "metadata": {},
   "source": [
    "##### Record your answers for the EDA section by double clicking here:\n",
    "- 1a) Reps in the North Branch = 9\n",
    "- 1b) Reps in the South Branch = 11\n",
    "\n",
    "\n",
    "- 2a) North Branch, (round to the nearest hundredth):\n",
    "> - Busy Minutes = 9.99\n",
    "> - Not Ready Minutes = 1.91\n",
    "> - Incoming Wait Time = 3.05\n",
    "> - During Call Wait Time = 2.97\n",
    "- 2b) South Branch, (round to the nearest hundredth):\n",
    "> - Busy Minutes =  10.05\n",
    "> - Not Ready Minutes = 1.91\n",
    "> - Incoming Wait Time = 3.00\n",
    "> - During Call Wait Time = 3.08\n",
    "- 3) Total Calls taken for all branches per time block:\n",
    "> - 9:00AM   = 10\n",
    "> - 10:00AM  = 99\n",
    "> - 11:00AM  = 56\n",
    "> - 12:00PM  = 120\n",
    "> - 1:00PM   = 40\n",
    "> - 2:00PM   = 65\n",
    "> - 3:00PM   = 73\n",
    "> - 4:00PM   = 53\n",
    "> - 5:00PM   = 43\n",
    "\n"
   ]
  },
  {
   "cell_type": "markdown",
   "id": "446048d3",
   "metadata": {},
   "source": [
    "<span style=\"background-color:orangered; color:orangered;\">- - - - - - - - - - - - - - - - - - - - - - - - - - - - - - - - - - - - - - - - - - - - - - - - - - - - - - - - - - - - - - - - - - - - - - - - - - - - - - - - - - - - - - - - -</span>"
   ]
  },
  {
   "cell_type": "markdown",
   "id": "366bfb19",
   "metadata": {},
   "source": [
    "## Cleaning Your Data \n",
    "Now you need to clean up the datasets. When cleaning the datasets, you may find that there isn't dirty data to clean. That is okay! Some questions you need to answer about the data sets.\n",
    "* Add additional code blocks as needed to show how you came to your conclusions. Add comments in your code blocks to help others understand your thinking. "
   ]
  },
  {
   "cell_type": "code",
   "execution_count": 7,
   "id": "d1e195b1",
   "metadata": {},
   "outputs": [
    {
     "name": "stdout",
     "output_type": "stream",
     "text": [
      "Unnamed: 0 - 0%\n",
      "Branch - 0%\n",
      "Call Purpose - 0%\n",
      "Time Block - 0%\n",
      "Incoming or Outgoing - 0%\n",
      "Queue - 0%\n",
      "Rep ID - 0%\n",
      "Sale - 0%\n",
      "Lost Call - 0%\n",
      "Abandoned - 0%\n",
      "Busy Minutes - 0%\n",
      "Not Ready Minutes - 0%\n",
      "Incoming Wait Time - 67%\n",
      "During Call Wait Time - 0%\n",
      "Calls - 0%\n"
     ]
    }
   ],
   "source": [
    "#Percent missing in North and South\n",
    "for col in north_df.columns:\n",
    "    pct_missing = np.mean(north_df[col].isnull())\n",
    "    print(f'{col} - {round(pct_missing*100)}%')"
   ]
  },
  {
   "cell_type": "code",
   "execution_count": 8,
   "id": "aba42306",
   "metadata": {},
   "outputs": [
    {
     "name": "stdout",
     "output_type": "stream",
     "text": [
      "Unnamed: 0 - 0%\n",
      "Branch - 0%\n",
      "Call Purpose - 0%\n",
      "Time Block - 0%\n",
      "Incoming or Outgoing - 0%\n",
      "Queue - 0%\n",
      "Rep ID - 0%\n",
      "Sale - 0%\n",
      "Lost Call - 0%\n",
      "Abandoned - 0%\n",
      "Busy Minutes - 0%\n",
      "Not Ready Minutes - 0%\n",
      "Incoming Wait Time - 60%\n",
      "During Call Wait Time - 0%\n",
      "Calls - 0%\n"
     ]
    }
   ],
   "source": [
    "for col in south_df.columns:\n",
    "    pct_missing = np.mean(south_df[col].isnull())\n",
    "    print(f'{col} - {round(pct_missing*100)}%')"
   ]
  },
  {
   "cell_type": "code",
   "execution_count": 9,
   "id": "8c42ea7b",
   "metadata": {},
   "outputs": [
    {
     "data": {
      "text/plain": [
       "3.0     12\n",
       "2.0     16\n",
       "1.0     17\n",
       "5.0     17\n",
       "4.0     20\n",
       "0.0    163\n",
       "Name: Incoming Wait Time, dtype: int64"
      ]
     },
     "execution_count": 9,
     "metadata": {},
     "output_type": "execute_result"
    }
   ],
   "source": [
    "#Fill in missing values for Incoming Wait Time feature for North Call Center\n",
    "north_df[\"Incoming Wait Time\"] = north_df[\"Incoming Wait Time\"].fillna(\"No Wait\")\n",
    "north_df[\"Incoming Wait Time\"].value_counts(ascending = True)\n",
    "north_df[\"Incoming Wait Time\"] = north_df[\"Incoming Wait Time\"].replace({\"No Wait\": 0.0})\n",
    "north_df[\"Incoming Wait Time\"].value_counts(ascending = True) #changed No Wait to 0.0 so I can analyze it later"
   ]
  },
  {
   "cell_type": "code",
   "execution_count": 10,
   "id": "26be1fbc",
   "metadata": {},
   "outputs": [
    {
     "data": {
      "text/plain": [
       "5.0     19\n",
       "1.0     20\n",
       "2.0     28\n",
       "3.0     29\n",
       "4.0     30\n",
       "0.0    188\n",
       "Name: Incoming Wait Time, dtype: int64"
      ]
     },
     "execution_count": 10,
     "metadata": {},
     "output_type": "execute_result"
    }
   ],
   "source": [
    "#Fill in missing values for Incoming Wait Time feature for South Call Center\n",
    "south_df[\"Incoming Wait Time\"] = south_df[\"Incoming Wait Time\"].fillna(\"No Wait\")\n",
    "south_df[\"Incoming Wait Time\"].value_counts(ascending = True)\n",
    "south_df[\"Incoming Wait Time\"] = south_df[\"Incoming Wait Time\"].replace({\"No Wait\": 0.0})\n",
    "south_df[\"Incoming Wait Time\"].value_counts(ascending = True) #changed No Wait to 0.0 so I can analyze it later"
   ]
  },
  {
   "cell_type": "markdown",
   "id": "c3564d69",
   "metadata": {},
   "source": [
    "#### Cleaning Question 1:  Is there any missing data and if yes explain what you would do with the missing data and why?\n",
    "##### Record your answer by double clicking here:\n",
    "> Your Answer: There is only missing data in the Incoming Wait Time column for both data sets. This could be because for the variable Incoming Wait Time there was not a wait time for all calls, so I will keep the missing data and will fill in \"No Wait Time\" or something to that effect."
   ]
  },
  {
   "cell_type": "code",
   "execution_count": 11,
   "id": "b77fb574",
   "metadata": {},
   "outputs": [],
   "source": [
    "# Code Used\n",
    "# Add Additional Cells as needed.\n",
    "\n",
    "#See above for how I filled in missing values"
   ]
  },
  {
   "cell_type": "markdown",
   "id": "dc47f020",
   "metadata": {},
   "source": [
    "#### Cleaning Question 2:  In the North data set, there are two separate \"YES\" values for a sale. Why and how did you rectify the issue?\n",
    "##### Record your answer by double clicking here:\n",
    "> Your Answer: I figured that the second YES was probably erronenously including a space, so I replaced all \"YES \" with \"YES\""
   ]
  },
  {
   "cell_type": "code",
   "execution_count": 12,
   "id": "4e0fbad6",
   "metadata": {},
   "outputs": [
    {
     "data": {
      "text/plain": [
       "NO      234\n",
       "YES      10\n",
       "YES       1\n",
       "Name: Sale, dtype: int64"
      ]
     },
     "execution_count": 12,
     "metadata": {},
     "output_type": "execute_result"
    }
   ],
   "source": [
    "#Code Used\n",
    "# Add Additional Cells as needed.\n",
    "north_df[\"Sale\"].value_counts()"
   ]
  },
  {
   "cell_type": "code",
   "execution_count": 13,
   "id": "57014081",
   "metadata": {},
   "outputs": [
    {
     "data": {
      "text/plain": [
       "NO     234\n",
       "YES     11\n",
       "Name: Sale, dtype: int64"
      ]
     },
     "execution_count": 13,
     "metadata": {},
     "output_type": "execute_result"
    }
   ],
   "source": [
    "north_df[\"Sale\"] = north_df[[\"Sale\"]].replace({\"YES \": \"YES\"})\n",
    "north_df[\"Sale\"].value_counts()"
   ]
  },
  {
   "cell_type": "code",
   "execution_count": 14,
   "id": "0d7e9106",
   "metadata": {},
   "outputs": [
    {
     "data": {
      "text/plain": [
       "NO     308\n",
       "YES      6\n",
       "Name: Sale, dtype: int64"
      ]
     },
     "execution_count": 14,
     "metadata": {},
     "output_type": "execute_result"
    }
   ],
   "source": [
    "#Checking South too\n",
    "south_df[\"Sale\"].value_counts()"
   ]
  },
  {
   "cell_type": "markdown",
   "id": "715f375a",
   "metadata": {},
   "source": [
    "#### Cleaning Question 3:  Are there duplicates in the two data sets? If there are, how did you handle them?\n",
    "##### Record your answer by double clicking here:\n",
    "> Your Answer: There are no duplicates in either data set. If there were duplicates, I would have more carefully analyzed them to determine and probably dropped them."
   ]
  },
  {
   "cell_type": "code",
   "execution_count": 15,
   "id": "2323673a",
   "metadata": {},
   "outputs": [
    {
     "data": {
      "text/plain": [
       "0"
      ]
     },
     "execution_count": 15,
     "metadata": {},
     "output_type": "execute_result"
    }
   ],
   "source": [
    "#Code Used\n",
    "# Add Additional Cells as needed.\n",
    "north_df.duplicated().sum()"
   ]
  },
  {
   "cell_type": "code",
   "execution_count": 16,
   "id": "172d01dc",
   "metadata": {},
   "outputs": [
    {
     "data": {
      "text/plain": [
       "0"
      ]
     },
     "execution_count": 16,
     "metadata": {},
     "output_type": "execute_result"
    }
   ],
   "source": [
    "south_df.duplicated().sum()"
   ]
  },
  {
   "cell_type": "markdown",
   "id": "8ffaa865",
   "metadata": {},
   "source": [
    "#### Cleaning Question 4:  Is any of the data in the two data sets unnecessary? If yes, how did you handle it?\n",
    "##### Record your answer by double clicking here:\n",
    "> Your Answer: I think the feature Calls is not necessary for analysis. Since all data points in the data set are calls, it's redundant, so I will drop that column. All others can be useful in some way, so I will leave them in for now."
   ]
  },
  {
   "cell_type": "code",
   "execution_count": 17,
   "id": "78b45e70",
   "metadata": {},
   "outputs": [
    {
     "data": {
      "image/png": "[encoded data removed]",
      "text/plain": [
       "<Figure size 640x480 with 1 Axes>"
      ]
     },
     "metadata": {},
     "output_type": "display_data"
    }
   ],
   "source": [
    "#Code Used\n",
    "# Add Additional Cells as needed.\n",
    "north_df.head(3)\n",
    "#north_df[\"Calls\"].value_counts() #this feature seems pretty redundant since they're all calls, so I will probably drop it\n",
    "\n",
    "#Checking on the spread of calls to the Representatives (North)\n",
    "hist_plot_north = sns.histplot(north_df['Rep ID'], kde=False, bins=10)\n"
   ]
  },
  {
   "cell_type": "code",
   "execution_count": 18,
   "id": "66d24fab",
   "metadata": {},
   "outputs": [
    {
     "data": {
      "image/png": "[encoded data removed]",
      "text/plain": [
       "<Figure size 640x480 with 1 Axes>"
      ]
     },
     "metadata": {},
     "output_type": "display_data"
    }
   ],
   "source": [
    "#Checking on the spread of calls to the Representatives (South)\n",
    "hist_plot_south = sns.histplot(south_df['Rep ID'], kde=False, bins = 10)"
   ]
  },
  {
   "cell_type": "code",
   "execution_count": 19,
   "id": "e60d6068",
   "metadata": {},
   "outputs": [
    {
     "data": {
      "image/png": "[encoded data removed]",
      "text/plain": [
       "<Figure size 640x480 with 1 Axes>"
      ]
     },
     "metadata": {},
     "output_type": "display_data"
    }
   ],
   "source": [
    "#Looking at Representatives Not Ready Minutes shows that the North seems to be pretty evenly spread, but the south has a problem\n",
    "bar_NRM_reps_north = sns.barplot(x = 'Rep ID',y = 'Not Ready Minutes',data = north_df)"
   ]
  },
  {
   "cell_type": "code",
   "execution_count": 20,
   "id": "768c1550",
   "metadata": {},
   "outputs": [
    {
     "data": {
      "image/png": "[encoded data removed]",
      "text/plain": [
       "<Figure size 640x480 with 1 Axes>"
      ]
     },
     "metadata": {},
     "output_type": "display_data"
    }
   ],
   "source": [
    "bar_NRM_reps_south = sns.barplot(x = 'Rep ID',y = 'Not Ready Minutes',data = south_df)"
   ]
  },
  {
   "cell_type": "code",
   "execution_count": 21,
   "id": "71925b0c",
   "metadata": {},
   "outputs": [
    {
     "data": {
      "text/plain": [
       "North    245\n",
       "Name: Branch, dtype: int64"
      ]
     },
     "execution_count": 21,
     "metadata": {},
     "output_type": "execute_result"
    }
   ],
   "source": [
    "north_df[\"Branch\"].value_counts()"
   ]
  },
  {
   "cell_type": "code",
   "execution_count": 22,
   "id": "7c98dead",
   "metadata": {},
   "outputs": [
    {
     "data": {
      "text/plain": [
       "South    314\n",
       "Name: Branch, dtype: int64"
      ]
     },
     "execution_count": 22,
     "metadata": {},
     "output_type": "execute_result"
    }
   ],
   "source": [
    "south_df[\"Branch\"].value_counts()"
   ]
  },
  {
   "cell_type": "code",
   "execution_count": 23,
   "id": "bb9f7fde",
   "metadata": {},
   "outputs": [
    {
     "data": {
      "text/plain": [
       "Index(['Unnamed: 0', 'Branch', 'Call Purpose', 'Time Block',\n",
       "       'Incoming or Outgoing', 'Queue', 'Rep ID', 'Sale', 'Lost Call',\n",
       "       'Abandoned', 'Busy Minutes', 'Not Ready Minutes', 'Incoming Wait Time',\n",
       "       'During Call Wait Time', 'Calls'],\n",
       "      dtype='object')"
      ]
     },
     "execution_count": 23,
     "metadata": {},
     "output_type": "execute_result"
    }
   ],
   "source": [
    "north_df.columns\n",
    "#south_df.columns"
   ]
  },
  {
   "cell_type": "code",
   "execution_count": 24,
   "id": "d4c7e745",
   "metadata": {},
   "outputs": [
    {
     "data": {
      "text/plain": [
       "Text(0.5, 1.0, 'North Call Center')"
      ]
     },
     "execution_count": 24,
     "metadata": {},
     "output_type": "execute_result"
    },
    {
     "data": {
      "image/png": "[encoded data removed]",
      "text/plain": [
       "<Figure size 640x480 with 1 Axes>"
      ]
     },
     "metadata": {},
     "output_type": "display_data"
    }
   ],
   "source": [
    "minutes_north = [north_df['Busy Minutes'].sum(), north_df['Not Ready Minutes'].sum(), north_df['Incoming Wait Time'].sum(), \n",
    "        north_df['During Call Wait Time'].sum()]\n",
    "labels = [\"Busy Minutes\", \"Not Ready Minutes\", \"Incoming Wait Time\", \"During Call Wait Time\"]\n",
    "plt.pie(minutes_north, labels = labels)\n",
    "plt.title(\"North Call Center\")"
   ]
  },
  {
   "cell_type": "code",
   "execution_count": 25,
   "id": "508a2860",
   "metadata": {},
   "outputs": [
    {
     "data": {
      "text/plain": [
       "Text(0.5, 1.0, 'South Call Center')"
      ]
     },
     "execution_count": 25,
     "metadata": {},
     "output_type": "execute_result"
    },
    {
     "data": {
      "image/png": "[encoded data removed]",
      "text/plain": [
       "<Figure size 640x480 with 1 Axes>"
      ]
     },
     "metadata": {},
     "output_type": "display_data"
    }
   ],
   "source": [
    "minutes_south = [south_df['Busy Minutes'].sum(), south_df['Not Ready Minutes'].sum(), south_df['Incoming Wait Time'].sum(), \n",
    "        south_df['During Call Wait Time'].sum()]\n",
    "labels = [\"Busy Minutes\", \"Not Ready Minutes\", \"Incoming Wait Time\", \"During Call Wait Time\"]\n",
    "plt.pie(minutes_south, labels = labels)\n",
    "plt.title(\"South Call Center\")"
   ]
  },
  {
   "cell_type": "code",
   "execution_count": 26,
   "id": "d430c182",
   "metadata": {},
   "outputs": [
    {
     "data": {
      "text/plain": [
       "Text(0.5, 1.0, 'North Rep ID Minutes Spent')"
      ]
     },
     "execution_count": 26,
     "metadata": {},
     "output_type": "execute_result"
    },
    {
     "data": {
      "image/png": "[encoded data removed]",
      "text/plain": [
       "<Figure size 642.111x500 with 1 Axes>"
      ]
     },
     "metadata": {},
     "output_type": "display_data"
    }
   ],
   "source": [
    "#index = str([1,2,3])\n",
    "#north_bar_chart = pd.DataFrame(north_df[['Busy Minutes','Not Ready Minutes','Incoming Wait Time'], index].T)\n",
    "sns.catplot(x = \"Rep ID\", y = \"Busy Minutes\", hue = \"Not Ready Minutes\",  data = north_df, kind = \"bar\")\n",
    "plt.xticks(rotation = 45)\n",
    "plt.title(\"North Rep ID Minutes Spent\")\n"
   ]
  },
  {
   "cell_type": "code",
   "execution_count": 27,
   "id": "64c23933",
   "metadata": {},
   "outputs": [
    {
     "data": {
      "text/plain": [
       "Index(['Unnamed: 0', 'Branch', 'Call Purpose', 'Time Block',\n",
       "       'Incoming or Outgoing', 'Queue', 'Rep ID', 'Sale', 'Lost Call',\n",
       "       'Abandoned', 'Busy Minutes', 'Not Ready Minutes', 'Incoming Wait Time',\n",
       "       'During Call Wait Time'],\n",
       "      dtype='object')"
      ]
     },
     "execution_count": 27,
     "metadata": {},
     "output_type": "execute_result"
    }
   ],
   "source": [
    "#dropping Calls columns \n",
    "north_df_drop = north_df.drop([\"Calls\"], axis = 1)\n",
    "north_df_drop.columns"
   ]
  },
  {
   "cell_type": "code",
   "execution_count": 28,
   "id": "39dc262d",
   "metadata": {},
   "outputs": [
    {
     "data": {
      "text/plain": [
       "Index(['Unnamed: 0', 'Branch', 'Call Purpose', 'Time Block',\n",
       "       'Incoming or Outgoing', 'Queue', 'Rep ID', 'Sale', 'Lost Call',\n",
       "       'Abandoned', 'Busy Minutes', 'Not Ready Minutes', 'Incoming Wait Time',\n",
       "       'During Call Wait Time'],\n",
       "      dtype='object')"
      ]
     },
     "execution_count": 28,
     "metadata": {},
     "output_type": "execute_result"
    }
   ],
   "source": [
    "#dropping Calls columns \n",
    "south_df_drop = south_df.drop([\"Calls\"], axis = 1)\n",
    "south_df_drop.columns"
   ]
  },
  {
   "cell_type": "markdown",
   "id": "f67d89ab",
   "metadata": {},
   "source": [
    "<span style=\"background-color:orangered; color:orangered;\">- - - - - - - - - - - - - - - - - - - - - - - - - - - - - - - - - - - - - - - - - - - - - - - - - - - - - - - - - - - - - - - - - - - - - - - - - - - - - - - - - - - - - - - - -</span>"
   ]
  },
  {
   "cell_type": "markdown",
   "id": "73342a9a",
   "metadata": {},
   "source": [
    "## Data Manipulation\n",
    "Before you begin answering any questions, combine the two datasets together to create a third dataframe called df. You can use this third dataframe to compare the two call centers to company-wide trends.\n",
    "* Add additional code blocks as needed to show how you came to your conclusions. Add comments in your code blocks to help others understand your thinking. Record your answer by double clicking the below cell."
   ]
  },
  {
   "cell_type": "code",
   "execution_count": 29,
   "id": "e9705c34",
   "metadata": {},
   "outputs": [
    {
     "name": "stdout",
     "output_type": "stream",
     "text": [
      "<class 'pandas.core.frame.DataFrame'>\n",
      "RangeIndex: 559 entries, 0 to 558\n",
      "Data columns (total 14 columns):\n",
      " #   Column                 Non-Null Count  Dtype  \n",
      "---  ------                 --------------  -----  \n",
      " 0   Unnamed: 0             559 non-null    int64  \n",
      " 1   Branch                 559 non-null    object \n",
      " 2   Call Purpose           559 non-null    object \n",
      " 3   Time Block             559 non-null    object \n",
      " 4   Incoming or Outgoing   559 non-null    object \n",
      " 5   Queue                  559 non-null    object \n",
      " 6   Rep ID                 559 non-null    object \n",
      " 7   Sale                   559 non-null    object \n",
      " 8   Lost Call              559 non-null    int64  \n",
      " 9   Abandoned              559 non-null    int64  \n",
      " 10  Busy Minutes           559 non-null    int64  \n",
      " 11  Not Ready Minutes      559 non-null    int64  \n",
      " 12  Incoming Wait Time     559 non-null    float64\n",
      " 13  During Call Wait Time  559 non-null    int64  \n",
      "dtypes: float64(1), int64(6), object(7)\n",
      "memory usage: 61.3+ KB\n"
     ]
    }
   ],
   "source": [
    "# Create dataframe for the entire company named df\n",
    "df = pd.concat([north_df_drop, south_df_drop], ignore_index = True)\n",
    "df.tail()\n",
    "#df[\"Branch\"].value_counts()\n",
    "df.info()"
   ]
  },
  {
   "cell_type": "markdown",
   "id": "7e87dfd1",
   "metadata": {},
   "source": [
    "#### Manipulation Question 1:  Group by Rep ID and sum the resulting structure. Sort by calls to determine which rep in each branch has the highest number of calls.\n",
    "\n",
    "##### Record your answer by double clicking here:\n",
    "Rep with the hightest number of calls and their total calls:\n",
    "- North Branch = Brent with 37 calls\n",
    "- South Branch = Eric with 35 calls\n"
   ]
  },
  {
   "cell_type": "code",
   "execution_count": 30,
   "id": "3953f09a",
   "metadata": {},
   "outputs": [
    {
     "data": {
      "text/plain": [
       "Branch  Rep ID\n",
       "North   Brent     37\n",
       "        Lilly     30\n",
       "        Duke      29\n",
       "        Todd      29\n",
       "        Joe       26\n",
       "        Cam       24\n",
       "        Xander    24\n",
       "        Amanda    23\n",
       "        Andy      23\n",
       "South   Eric      35\n",
       "        Randy     33\n",
       "        Sandy     32\n",
       "        Helga     31\n",
       "        George    29\n",
       "        Kate      29\n",
       "        Karl      28\n",
       "        Josh      26\n",
       "        Susan     26\n",
       "        Sharon    25\n",
       "        Alice     20\n",
       "Name: Rep ID, dtype: int64"
      ]
     },
     "execution_count": 30,
     "metadata": {},
     "output_type": "execute_result"
    }
   ],
   "source": [
    "# Code Used\n",
    "# Add Additional Cells as needed.\n",
    "groupby_RepID = df.groupby(\"Branch\")[\"Rep ID\"]\n",
    "groupby_RepID.value_counts()"
   ]
  },
  {
   "cell_type": "markdown",
   "id": "809293b9",
   "metadata": {},
   "source": [
    "#### Manipulation Question 2:  The average call abandonment rate is a KPI when it comes to determining call center efficiency. As you may recall, abandoned calls are calls where the customer hangs up due to long call times. What is the average call abandonment rate for each branch and the whole company? Do any of these fall out of the optimal range of 2-5%?\n",
    "##### Record your answer by double clicking here:\n",
    "Average Call Abandonment Rates (round to the nearest hundredth):\n",
    "- North Branch = 4.90%\n",
    "- South Branch = 4.78%\n",
    "- Company Wide = 4.83%\n",
    "- Do any of these fall out of the optimal range of 2-5%? \n",
    "  Neither the North or South branch are outside of the 2-5% range, but both call centers are dangerously close to the 5% mark. \n",
    "  Therefore, it is probably wise to look more carefully at the efficiency of both centers."
   ]
  },
  {
   "cell_type": "code",
   "execution_count": 31,
   "id": "3dff7534",
   "metadata": {},
   "outputs": [
    {
     "data": {
      "text/html": [
       "<div>\n",
       "<style scoped>\n",
       "    .dataframe tbody tr th:only-of-type {\n",
       "        vertical-align: middle;\n",
       "    }\n",
       "\n",
       "    .dataframe tbody tr th {\n",
       "        vertical-align: top;\n",
       "    }\n",
       "\n",
       "    .dataframe thead tr th {\n",
       "        text-align: left;\n",
       "    }\n",
       "\n",
       "    .dataframe thead tr:last-of-type th {\n",
       "        text-align: right;\n",
       "    }\n",
       "</style>\n",
       "<table border=\"1\" class=\"dataframe\">\n",
       "  <thead>\n",
       "    <tr>\n",
       "      <th></th>\n",
       "      <th colspan=\"2\" halign=\"left\">Lost Call</th>\n",
       "      <th colspan=\"2\" halign=\"left\">Abandoned</th>\n",
       "    </tr>\n",
       "    <tr>\n",
       "      <th></th>\n",
       "      <th>count</th>\n",
       "      <th>sum</th>\n",
       "      <th>count</th>\n",
       "      <th>sum</th>\n",
       "    </tr>\n",
       "    <tr>\n",
       "      <th>Branch</th>\n",
       "      <th></th>\n",
       "      <th></th>\n",
       "      <th></th>\n",
       "      <th></th>\n",
       "    </tr>\n",
       "  </thead>\n",
       "  <tbody>\n",
       "    <tr>\n",
       "      <th>North</th>\n",
       "      <td>245</td>\n",
       "      <td>5</td>\n",
       "      <td>245</td>\n",
       "      <td>7</td>\n",
       "    </tr>\n",
       "    <tr>\n",
       "      <th>South</th>\n",
       "      <td>314</td>\n",
       "      <td>11</td>\n",
       "      <td>314</td>\n",
       "      <td>4</td>\n",
       "    </tr>\n",
       "  </tbody>\n",
       "</table>\n",
       "</div>"
      ],
      "text/plain": [
       "       Lost Call     Abandoned    \n",
       "           count sum     count sum\n",
       "Branch                            \n",
       "North        245   5       245   7\n",
       "South        314  11       314   4"
      ]
     },
     "execution_count": 31,
     "metadata": {},
     "output_type": "execute_result"
    }
   ],
   "source": [
    "# Code Used\n",
    "\n",
    "#Sum of calls Lost or Abandoned per Branch\n",
    "groupby_calls_lost_abandoned = df.groupby(\"Branch\")[[\"Lost Call\", \"Abandoned\"]].agg([\"count\", \"sum\"])\n",
    "groupby_calls_lost_abandoned"
   ]
  },
  {
   "cell_type": "code",
   "execution_count": 32,
   "id": "7eb33907",
   "metadata": {},
   "outputs": [
    {
     "data": {
      "text/html": [
       "<div>\n",
       "<style scoped>\n",
       "    .dataframe tbody tr th:only-of-type {\n",
       "        vertical-align: middle;\n",
       "    }\n",
       "\n",
       "    .dataframe tbody tr th {\n",
       "        vertical-align: top;\n",
       "    }\n",
       "\n",
       "    .dataframe thead th {\n",
       "        text-align: right;\n",
       "    }\n",
       "</style>\n",
       "<table border=\"1\" class=\"dataframe\">\n",
       "  <thead>\n",
       "    <tr style=\"text-align: right;\">\n",
       "      <th></th>\n",
       "      <th>Lost Call</th>\n",
       "      <th>Abandoned</th>\n",
       "    </tr>\n",
       "  </thead>\n",
       "  <tbody>\n",
       "    <tr>\n",
       "      <th>count</th>\n",
       "      <td>559</td>\n",
       "      <td>559</td>\n",
       "    </tr>\n",
       "    <tr>\n",
       "      <th>sum</th>\n",
       "      <td>16</td>\n",
       "      <td>11</td>\n",
       "    </tr>\n",
       "  </tbody>\n",
       "</table>\n",
       "</div>"
      ],
      "text/plain": [
       "       Lost Call  Abandoned\n",
       "count        559        559\n",
       "sum           16         11"
      ]
     },
     "execution_count": 32,
     "metadata": {},
     "output_type": "execute_result"
    }
   ],
   "source": [
    "#Whole Company Lost or Abandoned Calls\n",
    "whole_df = df[[\"Lost Call\",\"Abandoned\"]].agg([\"count\", \"sum\"])\n",
    "whole_df"
   ]
  },
  {
   "cell_type": "code",
   "execution_count": 43,
   "id": "bb3eb8dc",
   "metadata": {},
   "outputs": [
    {
     "name": "stdout",
     "output_type": "stream",
     "text": [
      "Whole Company (%): \n",
      "4.83 \n",
      "North and South Individually (%):\n",
      "Branch\n",
      "North    4.90\n",
      "South    4.78\n",
      "dtype: float64\n"
     ]
    }
   ],
   "source": [
    "#2-5% Optimum Calculation\n",
    "pct_unhappy = df[\"Lost Call\"].mean() + df[\"Abandoned\"].mean()\n",
    "pct_unhappy_grouped = df.groupby(\"Branch\")[[\"Lost Call\", \"Abandoned\"]].mean().sum(axis = 1)\n",
    "print(f\"Whole Company (%): \\n{round(pct_unhappy*100,2)} \\nNorth and South Individually (%):\\n{round(pct_unhappy_grouped*100,2)}\")"
   ]
  },
  {
   "cell_type": "markdown",
   "id": "598bb1bf",
   "metadata": {},
   "source": [
    "#### Manipulation Question 3:  Service level is another KPI when it comes to measuring call center efficiency. Service level is the percentage of calls answered within a specific number of seconds. In the case of your employer, their ideal time frame is 2 seconds. What is the percentage of calls answered within 2 seconds for each branch and the entire company?\n",
    "##### Record your answer by double clicking here:\n",
    "Percentage of calls answered within 2 seconds, include # of calls:\n",
    "- North Branch = 80% are answered less than 2 seconds (196 out of 245 calls)\n",
    "- South Branch = 75.2% are answered less than 2 seconds (236 out of 314 calls)\n",
    "- Company Wide = 77.3% are answered less than 2 seconds (432 out of 559 calls)"
   ]
  },
  {
   "cell_type": "code",
   "execution_count": 97,
   "id": "2fc8f669",
   "metadata": {},
   "outputs": [
    {
     "name": "stdout",
     "output_type": "stream",
     "text": [
      "Branch  Incoming Wait Time\n",
      "North   0.0                   163\n",
      "        4.0                    20\n",
      "        1.0                    17\n",
      "        5.0                    17\n",
      "        2.0                    16\n",
      "        3.0                    12\n",
      "South   0.0                   188\n",
      "        4.0                    30\n",
      "        3.0                    29\n",
      "        2.0                    28\n",
      "        1.0                    20\n",
      "        5.0                    19\n",
      "Name: Incoming Wait Time, dtype: int64\n",
      "0.0    351\n",
      "4.0     50\n",
      "2.0     44\n",
      "3.0     41\n",
      "1.0     37\n",
      "5.0     36\n",
      "Name: Incoming Wait Time, dtype: int64\n",
      "North: 80.0, South: 75.15923566878982, Company: 77.28085867620752\n"
     ]
    }
   ],
   "source": [
    "# Code Used\n",
    "# Add Additional Cells as needed.\n",
    "incoming_wait_time = df.groupby(\"Branch\")[\"Incoming Wait Time\"].value_counts()\n",
    "print(incoming_wait_time)\n",
    "print(df[\"Incoming Wait Time\"].value_counts())\n",
    "#north_incoming = ((163+17+16)/245)*100 #0.8\n",
    "#south_incoming = ((188+20+28)/314)*100 #0.75\n",
    "#company_incoming = ((351+37+44)/(559))*100 #0.77\n",
    "#print(f\"North: {north_incoming}, South: {south_incoming}, Company: {company_incoming}\")"
   ]
  },
  {
   "cell_type": "markdown",
   "id": "7e19e705",
   "metadata": {},
   "source": [
    "#### Manipulation Question 4: For each branch and the entire company, what is the average speed of answer?\n",
    "##### Record your answer by double clicking here:\n",
    "Average speed of answer (rounded to nearest hundredth):\n",
    "- North Branch in seconds = \n",
    "- South Branch in seconds = \n",
    "- Company Wide in seconds = \n"
   ]
  },
  {
   "cell_type": "code",
   "execution_count": null,
   "id": "72a653ed",
   "metadata": {},
   "outputs": [],
   "source": [
    "# Code Used \n"
   ]
  },
  {
   "cell_type": "markdown",
   "id": "ba3ca2cd",
   "metadata": {},
   "source": [
    "<span style=\"background-color:orangered; color:orangered;\">- - - - - - - - - - - - - - - - - - - - - - - - - - - - - - - - - - - - - - - - - - - - - - - - - - - - - - - - - - - - - - - - - - - - - - - - - - - - - - - - - - - - - - - - -</span>"
   ]
  },
  {
   "cell_type": "markdown",
   "id": "d5f50a40",
   "metadata": {},
   "source": [
    "## Visualization\n",
    "\n",
    "Create a visualization for each of the following questions. Some of the code to handle aggregating and storing data may be written for you. For each visualization, you choose the chart style that you feel suits the situation best. Make note of the chart style you chose and why. \n",
    "\n",
    "*NOTE Some questions you may decide to use more than one chart and or chart style."
   ]
  },
  {
   "cell_type": "markdown",
   "id": "66ccf83c",
   "metadata": {},
   "source": [
    "#### Visualization 1:  What is the average abandonment rate per queue?\n",
    "##### Record your answer by double clicking here:\n",
    "\n",
    "> Chart style you chose and why: "
   ]
  },
  {
   "cell_type": "code",
   "execution_count": null,
   "id": "c971d779",
   "metadata": {},
   "outputs": [],
   "source": [
    "# Create visualization 1 here\n",
    "# Import any additional libraries needed with alias\n",
    "\n",
    "\n",
    "\n",
    "# The dictionary abandonment_rates has the data you need.\n",
    "abandonment_rates = {}\n",
    "queues = [\"A\", \"B\", \"C\", \"D\"]\n",
    "queue_dict = df.groupby(\"Queue\").agg(\"sum\")\n",
    "for i in range(4):\n",
    "    abandonment_rates[queues[i]] = queue_dict[\"Abandoned\"][i] / queue_dict[\"Calls\"][i] \n",
    "\n",
    "#Your Code Here:\n",
    "\n",
    "\n"
   ]
  },
  {
   "cell_type": "markdown",
   "id": "4a9fc77f",
   "metadata": {},
   "source": [
    "#### Visualization 2: What is the service level percentage and average speed of answer for each rep in the North Branch?\n",
    "##### Record your answer by double clicking here:\n",
    "\n",
    "> Chart style you chose and why: "
   ]
  },
  {
   "cell_type": "code",
   "execution_count": null,
   "id": "61f65a7f",
   "metadata": {},
   "outputs": [],
   "source": [
    "# Create visualization 2 here\n",
    "# north_plt contains the data you need for the average speed of answer of each rep\n",
    "\n",
    "north_plt = north.groupby(\"Rep ID\")[\"Incoming Wait Time\"].mean().to_frame().reset_index()\n",
    "\n",
    "# Finding each Rep's Personal Service Level Percentage.  Basically, Calls within 2 secs / total calls\n",
    "\n",
    "# Table 1: Total Incoming calls less than 2 seconds grouped by Rep\n",
    "quick_calls = north[north[\"Incoming Wait Time\"] <= 2.0]\n",
    "quick_reps = quick_calls[[\"Rep ID\", \"Calls\"]]\n",
    "quick_stats = quick_reps.groupby([\"Rep ID\"]).sum()  # Final Table\n",
    "\n",
    "\n",
    "# Table 2: Total Incoming Calls Only grouped by Rep\n",
    "total_calls_in = north[north[\"Incoming or Outgoing\"] == \"Incoming\"]\n",
    "rep_calls = total_calls_in[[\"Rep ID\", \"Calls\"]]     \n",
    "total_stats = rep_calls.groupby([\"Rep ID\"]).sum() # Final Table  \n",
    "\n",
    "#  Table 3: Service Level Percentage created via merge\n",
    "service_level = pd.merge(quick_stats, total_stats, on=\"Rep ID\")\n",
    "\n",
    "# Create Percentage Column in Table 3\n",
    "service_level[\"Service Level %\"] = service_level[\"Calls_x\"]/service_level[\"Calls_y\"] * 100\n",
    "\n",
    "#Your Code Here:\n"
   ]
  },
  {
   "cell_type": "markdown",
   "id": "f965e41a",
   "metadata": {},
   "source": [
    "#### Visualization 3: For each type of call purpose, how many calls are outgoing vs. incoming?\n",
    "##### Record your answer by double clicking here:\n",
    "\n",
    "> Chart style you chose and why: "
   ]
  },
  {
   "cell_type": "code",
   "execution_count": null,
   "id": "44096730",
   "metadata": {},
   "outputs": [],
   "source": [
    "# Create visualization 3 here:\n",
    "# The three dictionaries, complaints, sales_support, and product_support, have the information you need\n",
    "\n",
    "purpose_group = df.groupby(\"Call Purpose\")\n",
    "call_purpose = [\"Complaint\", \"Product Support\", \"Sales Support\"]\n",
    "purpose_counts = purpose_group[\"Incoming or Outgoing\"].value_counts()\n",
    "print(purpose_counts)\n",
    "\n",
    "complaints = purpose_counts[\"Complaint\"].to_dict()\n",
    "sales_support = purpose_counts[\"Sales Support\"].to_dict()\n",
    "product_support = purpose_counts[\"Product Support\"].to_dict()\n",
    "\n",
    "#Your Code Here:\n"
   ]
  },
  {
   "cell_type": "markdown",
   "id": "9549922c",
   "metadata": {},
   "source": [
    "<span style=\"background-color:orangered; color:orangered;\">- - - - - - - - - - - - - - - - - - - - - - - - - - - - - - - - - - - - - - - - - - - - - - - - - - - - - - - - - - - - - - - - - - - - - - - - - - - - - - - - - - - - - - - - -</span>"
   ]
  },
  {
   "cell_type": "markdown",
   "id": "ea7ed568",
   "metadata": {},
   "source": [
    "## Summarize Your Work\n",
    "\n",
    "With what you know now about the two call centers and the entire company, answer the following questions. Note that while this is subjective, you should include relevant data to back up your opinion.\n"
   ]
  },
  {
   "cell_type": "markdown",
   "id": "d2fc3d13",
   "metadata": {},
   "source": [
    "#### Summary Question 1:  Using KPIs such as average abandonment rate, service level and average speed of answer, in your opinion, which one of the two branches is operating more efficiently? Why?\n",
    "\n",
    "##### Record your answer by double clicking here:\n",
    "> Your Answer: \n",
    "\n"
   ]
  },
  {
   "cell_type": "markdown",
   "id": "489f28d6",
   "metadata": {},
   "source": [
    "#### Summary Question 2: Based on the number of reps in each branch and how quickly the reps are working, in your opinion, which branch would benefit from the extra help?\n",
    "\n",
    "##### Record your answer by double clicking here:\n",
    "> Your Answer: \n"
   ]
  },
  {
   "cell_type": "markdown",
   "id": "0b10a8c3",
   "metadata": {},
   "source": [
    "#### Summary Question 3: Now that you have explored the datasets, is there any data or information that you wish you had in this analysis?\n",
    "\n",
    "##### Record your answer by double clicking here:\n",
    "> Your Answer: \n"
   ]
  },
  {
   "cell_type": "markdown",
   "id": "8bbc535f",
   "metadata": {},
   "source": [
    "<span style=\"background-color:orangered; color:orangered;\">- - - - - - - - - - - - - - - - - - - - - - - - - - - - - - - - - - - - - - - - - - - - - - - - - - - - - - - - - - - - - - - - - - - - - - - - - - - - - - - - - - - - - - - - -</span>"
   ]
  },
  {
   "cell_type": "markdown",
   "id": "ce16f43d",
   "metadata": {},
   "source": [
    "## Bonus Mission\n",
    "Create a visualization that answers this question: For each call purpose, how many calls (incoming and outgoing) take place in each time block?\n",
    "##### Record your answer by double clicking here:\n",
    "\n",
    "> Chart style you chose and why: "
   ]
  },
  {
   "cell_type": "code",
   "execution_count": null,
   "id": "71b04f32",
   "metadata": {},
   "outputs": [],
   "source": [
    "# Create your Bonus Mission visualization here!\n",
    "call_times = df[[\"Time Block\", \"Call Purpose\", \"Incoming or Outgoing\", \"Calls\"]]\n",
    "\n",
    "# Use groupby to plot based on time blocks:\n",
    "\n",
    "# Use groupby and get_group to select which call purpose to plot:"
   ]
  }
 ],
 "metadata": {
  "kernelspec": {
   "display_name": "Python 3 (ipykernel)",
   "language": "python",
   "name": "python3"
  },
  "language_info": {
   "codemirror_mode": {
    "name": "ipython",
    "version": 3
   },
   "file_extension": ".py",
   "mimetype": "text/x-python",
   "name": "python",
   "nbconvert_exporter": "python",
   "pygments_lexer": "ipython3",
   "version": "3.9.13"
  }
 },
 "nbformat": 4,
 "nbformat_minor": 5
}
